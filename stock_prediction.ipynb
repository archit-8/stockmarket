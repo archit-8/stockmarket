{
  "nbformat": 4,
  "nbformat_minor": 0,
  "metadata": {
    "colab": {
      "name": "stock prediction.ipynb",
      "provenance": [],
      "collapsed_sections": [],
      "toc_visible": true,
      "authorship_tag": "ABX9TyNZFmAxl+nO1+R0vN7L2pJt",
      "include_colab_link": true
    },
    "kernelspec": {
      "name": "python3",
      "display_name": "Python 3"
    },
    "language_info": {
      "name": "python"
    }
  },
  "cells": [
    {
      "cell_type": "markdown",
      "metadata": {
        "id": "view-in-github",
        "colab_type": "text"
      },
      "source": [
        "<a href=\"https://colab.research.google.com/github/archit-8/stockmarket/blob/main/stock_prediction.ipynb\" target=\"_parent\"><img src=\"https://colab.research.google.com/assets/colab-badge.svg\" alt=\"Open In Colab\"/></a>"
      ]
    },
    {
      "cell_type": "markdown",
      "source": [
        "project name: Stock Market Prediction And Forecasting Using Stacked LSTM"
      ],
      "metadata": {
        "id": "obNvm1cCNizy"
      }
    },
    {
      "cell_type": "markdown",
      "source": [
        "importing important packages for project"
      ],
      "metadata": {
        "id": "LjckELCiN8p9"
      }
    },
    {
      "cell_type": "code",
      "source": [
        "import pandas as pd\n",
        "import numpy as np\n",
        "import matplotlib.pyplot as plt\n",
        "from sklearn.preprocessing import MinMaxScaler\n",
        "import tensorflow as tf\n",
        "import warnings\n",
        "warnings.filterwarnings('ignore')"
      ],
      "metadata": {
        "id": "8b4NbbaZG1LV"
      },
      "execution_count": null,
      "outputs": []
    },
    {
      "cell_type": "markdown",
      "source": [
        "packages for LSTM model"
      ],
      "metadata": {
        "id": "jymgMm2IFojz"
      }
    },
    {
      "cell_type": "markdown",
      "source": [
        "# New Section"
      ],
      "metadata": {
        "id": "C4NYmnQcGkaM"
      }
    },
    {
      "cell_type": "code",
      "source": [
        "from tensorflow.keras.models import Sequential\n",
        "from tensorflow.keras.layers import Dense\n",
        "from tensorflow.keras.layers import LSTM"
      ],
      "metadata": {
        "id": "MHZgJ4HdFn__"
      },
      "execution_count": null,
      "outputs": []
    },
    {
      "cell_type": "markdown",
      "source": [
        "packages for means squared error "
      ],
      "metadata": {
        "id": "aT5M_DlIGz8N"
      }
    },
    {
      "cell_type": "code",
      "source": [
        "import math\n",
        "from sklearn.metrics import mean_squared_error"
      ],
      "metadata": {
        "id": "8q8DTbilHFKU"
      },
      "execution_count": null,
      "outputs": []
    },
    {
      "cell_type": "markdown",
      "source": [
        "reading data"
      ],
      "metadata": {
        "id": "gh12UT4V5hYB"
      }
    },
    {
      "cell_type": "code",
      "execution_count": null,
      "metadata": {
        "id": "JacvwTgkF861",
        "colab": {
          "base_uri": "https://localhost:8080/",
          "height": 206
        },
        "outputId": "e23499e3-fa4b-4e91-9193-ca2be10b9023"
      },
      "outputs": [
        {
          "output_type": "execute_result",
          "data": {
            "text/html": [
              "\n",
              "  <div id=\"df-9742f85a-2a94-453f-92e4-5748e24971f9\">\n",
              "    <div class=\"colab-df-container\">\n",
              "      <div>\n",
              "<style scoped>\n",
              "    .dataframe tbody tr th:only-of-type {\n",
              "        vertical-align: middle;\n",
              "    }\n",
              "\n",
              "    .dataframe tbody tr th {\n",
              "        vertical-align: top;\n",
              "    }\n",
              "\n",
              "    .dataframe thead th {\n",
              "        text-align: right;\n",
              "    }\n",
              "</style>\n",
              "<table border=\"1\" class=\"dataframe\">\n",
              "  <thead>\n",
              "    <tr style=\"text-align: right;\">\n",
              "      <th></th>\n",
              "      <th>Date</th>\n",
              "      <th>Open</th>\n",
              "      <th>High</th>\n",
              "      <th>Low</th>\n",
              "      <th>Last</th>\n",
              "      <th>Close</th>\n",
              "      <th>Total Trade Quantity</th>\n",
              "      <th>Turnover (Lacs)</th>\n",
              "    </tr>\n",
              "  </thead>\n",
              "  <tbody>\n",
              "    <tr>\n",
              "      <th>0</th>\n",
              "      <td>2018-09-28</td>\n",
              "      <td>234.05</td>\n",
              "      <td>235.95</td>\n",
              "      <td>230.20</td>\n",
              "      <td>233.50</td>\n",
              "      <td>233.75</td>\n",
              "      <td>3069914</td>\n",
              "      <td>7162.35</td>\n",
              "    </tr>\n",
              "    <tr>\n",
              "      <th>1</th>\n",
              "      <td>2018-09-27</td>\n",
              "      <td>234.55</td>\n",
              "      <td>236.80</td>\n",
              "      <td>231.10</td>\n",
              "      <td>233.80</td>\n",
              "      <td>233.25</td>\n",
              "      <td>5082859</td>\n",
              "      <td>11859.95</td>\n",
              "    </tr>\n",
              "    <tr>\n",
              "      <th>2</th>\n",
              "      <td>2018-09-26</td>\n",
              "      <td>240.00</td>\n",
              "      <td>240.00</td>\n",
              "      <td>232.50</td>\n",
              "      <td>235.00</td>\n",
              "      <td>234.25</td>\n",
              "      <td>2240909</td>\n",
              "      <td>5248.60</td>\n",
              "    </tr>\n",
              "    <tr>\n",
              "      <th>3</th>\n",
              "      <td>2018-09-25</td>\n",
              "      <td>233.30</td>\n",
              "      <td>236.75</td>\n",
              "      <td>232.00</td>\n",
              "      <td>236.25</td>\n",
              "      <td>236.10</td>\n",
              "      <td>2349368</td>\n",
              "      <td>5503.90</td>\n",
              "    </tr>\n",
              "    <tr>\n",
              "      <th>4</th>\n",
              "      <td>2018-09-24</td>\n",
              "      <td>233.55</td>\n",
              "      <td>239.20</td>\n",
              "      <td>230.75</td>\n",
              "      <td>234.00</td>\n",
              "      <td>233.30</td>\n",
              "      <td>3423509</td>\n",
              "      <td>7999.55</td>\n",
              "    </tr>\n",
              "  </tbody>\n",
              "</table>\n",
              "</div>\n",
              "      <button class=\"colab-df-convert\" onclick=\"convertToInteractive('df-9742f85a-2a94-453f-92e4-5748e24971f9')\"\n",
              "              title=\"Convert this dataframe to an interactive table.\"\n",
              "              style=\"display:none;\">\n",
              "        \n",
              "  <svg xmlns=\"http://www.w3.org/2000/svg\" height=\"24px\"viewBox=\"0 0 24 24\"\n",
              "       width=\"24px\">\n",
              "    <path d=\"M0 0h24v24H0V0z\" fill=\"none\"/>\n",
              "    <path d=\"M18.56 5.44l.94 2.06.94-2.06 2.06-.94-2.06-.94-.94-2.06-.94 2.06-2.06.94zm-11 1L8.5 8.5l.94-2.06 2.06-.94-2.06-.94L8.5 2.5l-.94 2.06-2.06.94zm10 10l.94 2.06.94-2.06 2.06-.94-2.06-.94-.94-2.06-.94 2.06-2.06.94z\"/><path d=\"M17.41 7.96l-1.37-1.37c-.4-.4-.92-.59-1.43-.59-.52 0-1.04.2-1.43.59L10.3 9.45l-7.72 7.72c-.78.78-.78 2.05 0 2.83L4 21.41c.39.39.9.59 1.41.59.51 0 1.02-.2 1.41-.59l7.78-7.78 2.81-2.81c.8-.78.8-2.07 0-2.86zM5.41 20L4 18.59l7.72-7.72 1.47 1.35L5.41 20z\"/>\n",
              "  </svg>\n",
              "      </button>\n",
              "      \n",
              "  <style>\n",
              "    .colab-df-container {\n",
              "      display:flex;\n",
              "      flex-wrap:wrap;\n",
              "      gap: 12px;\n",
              "    }\n",
              "\n",
              "    .colab-df-convert {\n",
              "      background-color: #E8F0FE;\n",
              "      border: none;\n",
              "      border-radius: 50%;\n",
              "      cursor: pointer;\n",
              "      display: none;\n",
              "      fill: #1967D2;\n",
              "      height: 32px;\n",
              "      padding: 0 0 0 0;\n",
              "      width: 32px;\n",
              "    }\n",
              "\n",
              "    .colab-df-convert:hover {\n",
              "      background-color: #E2EBFA;\n",
              "      box-shadow: 0px 1px 2px rgba(60, 64, 67, 0.3), 0px 1px 3px 1px rgba(60, 64, 67, 0.15);\n",
              "      fill: #174EA6;\n",
              "    }\n",
              "\n",
              "    [theme=dark] .colab-df-convert {\n",
              "      background-color: #3B4455;\n",
              "      fill: #D2E3FC;\n",
              "    }\n",
              "\n",
              "    [theme=dark] .colab-df-convert:hover {\n",
              "      background-color: #434B5C;\n",
              "      box-shadow: 0px 1px 3px 1px rgba(0, 0, 0, 0.15);\n",
              "      filter: drop-shadow(0px 1px 2px rgba(0, 0, 0, 0.3));\n",
              "      fill: #FFFFFF;\n",
              "    }\n",
              "  </style>\n",
              "\n",
              "      <script>\n",
              "        const buttonEl =\n",
              "          document.querySelector('#df-9742f85a-2a94-453f-92e4-5748e24971f9 button.colab-df-convert');\n",
              "        buttonEl.style.display =\n",
              "          google.colab.kernel.accessAllowed ? 'block' : 'none';\n",
              "\n",
              "        async function convertToInteractive(key) {\n",
              "          const element = document.querySelector('#df-9742f85a-2a94-453f-92e4-5748e24971f9');\n",
              "          const dataTable =\n",
              "            await google.colab.kernel.invokeFunction('convertToInteractive',\n",
              "                                                     [key], {});\n",
              "          if (!dataTable) return;\n",
              "\n",
              "          const docLinkHtml = 'Like what you see? Visit the ' +\n",
              "            '<a target=\"_blank\" href=https://colab.research.google.com/notebooks/data_table.ipynb>data table notebook</a>'\n",
              "            + ' to learn more about interactive tables.';\n",
              "          element.innerHTML = '';\n",
              "          dataTable['output_type'] = 'display_data';\n",
              "          await google.colab.output.renderOutput(dataTable, element);\n",
              "          const docLink = document.createElement('div');\n",
              "          docLink.innerHTML = docLinkHtml;\n",
              "          element.appendChild(docLink);\n",
              "        }\n",
              "      </script>\n",
              "    </div>\n",
              "  </div>\n",
              "  "
            ],
            "text/plain": [
              "         Date    Open    High  ...   Close  Total Trade Quantity  Turnover (Lacs)\n",
              "0  2018-09-28  234.05  235.95  ...  233.75               3069914          7162.35\n",
              "1  2018-09-27  234.55  236.80  ...  233.25               5082859         11859.95\n",
              "2  2018-09-26  240.00  240.00  ...  234.25               2240909          5248.60\n",
              "3  2018-09-25  233.30  236.75  ...  236.10               2349368          5503.90\n",
              "4  2018-09-24  233.55  239.20  ...  233.30               3423509          7999.55\n",
              "\n",
              "[5 rows x 8 columns]"
            ]
          },
          "metadata": {},
          "execution_count": 50
        }
      ],
      "source": [
        "dataset_link=\"https://raw.githubusercontent.com/mwitiderrick/stockprice/master/NSE-TATAGLOBAL.csv\"\n",
        "data=pd.read_csv(dataset_link)\n",
        "data.head()"
      ]
    },
    {
      "cell_type": "markdown",
      "source": [
        "exploring data"
      ],
      "metadata": {
        "id": "n9Llq7CX8iic"
      }
    },
    {
      "cell_type": "code",
      "source": [
        "data.isnull().sum()"
      ],
      "metadata": {
        "colab": {
          "base_uri": "https://localhost:8080/"
        },
        "id": "pVr6R8cs8leO",
        "outputId": "ad990637-ad91-4ff2-e815-5c93787000a1"
      },
      "execution_count": null,
      "outputs": [
        {
          "output_type": "execute_result",
          "data": {
            "text/plain": [
              "Date                    0\n",
              "Open                    0\n",
              "High                    0\n",
              "Low                     0\n",
              "Last                    0\n",
              "Close                   0\n",
              "Total Trade Quantity    0\n",
              "Turnover (Lacs)         0\n",
              "dtype: int64"
            ]
          },
          "metadata": {},
          "execution_count": 51
        }
      ]
    },
    {
      "cell_type": "code",
      "source": [
        "data['Data']=pd.to_datetime(data['Date'])"
      ],
      "metadata": {
        "id": "zuII85m8GnaJ"
      },
      "execution_count": null,
      "outputs": []
    },
    {
      "cell_type": "code",
      "source": [
        "df=data.sort_values('Date')\n",
        "df.head()\n"
      ],
      "metadata": {
        "colab": {
          "base_uri": "https://localhost:8080/",
          "height": 206
        },
        "id": "rIDo3BV09CY2",
        "outputId": "34d2aae6-ae55-4f4e-a20d-8a043930d8f0"
      },
      "execution_count": null,
      "outputs": [
        {
          "output_type": "execute_result",
          "data": {
            "text/html": [
              "\n",
              "  <div id=\"df-91baa011-24fd-4074-a6e6-8f9c6580861c\">\n",
              "    <div class=\"colab-df-container\">\n",
              "      <div>\n",
              "<style scoped>\n",
              "    .dataframe tbody tr th:only-of-type {\n",
              "        vertical-align: middle;\n",
              "    }\n",
              "\n",
              "    .dataframe tbody tr th {\n",
              "        vertical-align: top;\n",
              "    }\n",
              "\n",
              "    .dataframe thead th {\n",
              "        text-align: right;\n",
              "    }\n",
              "</style>\n",
              "<table border=\"1\" class=\"dataframe\">\n",
              "  <thead>\n",
              "    <tr style=\"text-align: right;\">\n",
              "      <th></th>\n",
              "      <th>Date</th>\n",
              "      <th>Open</th>\n",
              "      <th>High</th>\n",
              "      <th>Low</th>\n",
              "      <th>Last</th>\n",
              "      <th>Close</th>\n",
              "      <th>Total Trade Quantity</th>\n",
              "      <th>Turnover (Lacs)</th>\n",
              "      <th>Data</th>\n",
              "    </tr>\n",
              "  </thead>\n",
              "  <tbody>\n",
              "    <tr>\n",
              "      <th>2034</th>\n",
              "      <td>2010-07-21</td>\n",
              "      <td>122.1</td>\n",
              "      <td>123.00</td>\n",
              "      <td>121.05</td>\n",
              "      <td>121.10</td>\n",
              "      <td>121.55</td>\n",
              "      <td>658666</td>\n",
              "      <td>803.56</td>\n",
              "      <td>2010-07-21</td>\n",
              "    </tr>\n",
              "    <tr>\n",
              "      <th>2033</th>\n",
              "      <td>2010-07-22</td>\n",
              "      <td>120.3</td>\n",
              "      <td>122.00</td>\n",
              "      <td>120.25</td>\n",
              "      <td>120.75</td>\n",
              "      <td>120.90</td>\n",
              "      <td>293312</td>\n",
              "      <td>355.17</td>\n",
              "      <td>2010-07-22</td>\n",
              "    </tr>\n",
              "    <tr>\n",
              "      <th>2032</th>\n",
              "      <td>2010-07-23</td>\n",
              "      <td>121.8</td>\n",
              "      <td>121.95</td>\n",
              "      <td>120.25</td>\n",
              "      <td>120.35</td>\n",
              "      <td>120.65</td>\n",
              "      <td>281312</td>\n",
              "      <td>340.31</td>\n",
              "      <td>2010-07-23</td>\n",
              "    </tr>\n",
              "    <tr>\n",
              "      <th>2031</th>\n",
              "      <td>2010-07-26</td>\n",
              "      <td>120.1</td>\n",
              "      <td>121.00</td>\n",
              "      <td>117.10</td>\n",
              "      <td>117.10</td>\n",
              "      <td>117.60</td>\n",
              "      <td>658440</td>\n",
              "      <td>780.01</td>\n",
              "      <td>2010-07-26</td>\n",
              "    </tr>\n",
              "    <tr>\n",
              "      <th>2030</th>\n",
              "      <td>2010-07-27</td>\n",
              "      <td>117.6</td>\n",
              "      <td>119.50</td>\n",
              "      <td>112.00</td>\n",
              "      <td>118.80</td>\n",
              "      <td>118.65</td>\n",
              "      <td>586100</td>\n",
              "      <td>694.98</td>\n",
              "      <td>2010-07-27</td>\n",
              "    </tr>\n",
              "  </tbody>\n",
              "</table>\n",
              "</div>\n",
              "      <button class=\"colab-df-convert\" onclick=\"convertToInteractive('df-91baa011-24fd-4074-a6e6-8f9c6580861c')\"\n",
              "              title=\"Convert this dataframe to an interactive table.\"\n",
              "              style=\"display:none;\">\n",
              "        \n",
              "  <svg xmlns=\"http://www.w3.org/2000/svg\" height=\"24px\"viewBox=\"0 0 24 24\"\n",
              "       width=\"24px\">\n",
              "    <path d=\"M0 0h24v24H0V0z\" fill=\"none\"/>\n",
              "    <path d=\"M18.56 5.44l.94 2.06.94-2.06 2.06-.94-2.06-.94-.94-2.06-.94 2.06-2.06.94zm-11 1L8.5 8.5l.94-2.06 2.06-.94-2.06-.94L8.5 2.5l-.94 2.06-2.06.94zm10 10l.94 2.06.94-2.06 2.06-.94-2.06-.94-.94-2.06-.94 2.06-2.06.94z\"/><path d=\"M17.41 7.96l-1.37-1.37c-.4-.4-.92-.59-1.43-.59-.52 0-1.04.2-1.43.59L10.3 9.45l-7.72 7.72c-.78.78-.78 2.05 0 2.83L4 21.41c.39.39.9.59 1.41.59.51 0 1.02-.2 1.41-.59l7.78-7.78 2.81-2.81c.8-.78.8-2.07 0-2.86zM5.41 20L4 18.59l7.72-7.72 1.47 1.35L5.41 20z\"/>\n",
              "  </svg>\n",
              "      </button>\n",
              "      \n",
              "  <style>\n",
              "    .colab-df-container {\n",
              "      display:flex;\n",
              "      flex-wrap:wrap;\n",
              "      gap: 12px;\n",
              "    }\n",
              "\n",
              "    .colab-df-convert {\n",
              "      background-color: #E8F0FE;\n",
              "      border: none;\n",
              "      border-radius: 50%;\n",
              "      cursor: pointer;\n",
              "      display: none;\n",
              "      fill: #1967D2;\n",
              "      height: 32px;\n",
              "      padding: 0 0 0 0;\n",
              "      width: 32px;\n",
              "    }\n",
              "\n",
              "    .colab-df-convert:hover {\n",
              "      background-color: #E2EBFA;\n",
              "      box-shadow: 0px 1px 2px rgba(60, 64, 67, 0.3), 0px 1px 3px 1px rgba(60, 64, 67, 0.15);\n",
              "      fill: #174EA6;\n",
              "    }\n",
              "\n",
              "    [theme=dark] .colab-df-convert {\n",
              "      background-color: #3B4455;\n",
              "      fill: #D2E3FC;\n",
              "    }\n",
              "\n",
              "    [theme=dark] .colab-df-convert:hover {\n",
              "      background-color: #434B5C;\n",
              "      box-shadow: 0px 1px 3px 1px rgba(0, 0, 0, 0.15);\n",
              "      filter: drop-shadow(0px 1px 2px rgba(0, 0, 0, 0.3));\n",
              "      fill: #FFFFFF;\n",
              "    }\n",
              "  </style>\n",
              "\n",
              "      <script>\n",
              "        const buttonEl =\n",
              "          document.querySelector('#df-91baa011-24fd-4074-a6e6-8f9c6580861c button.colab-df-convert');\n",
              "        buttonEl.style.display =\n",
              "          google.colab.kernel.accessAllowed ? 'block' : 'none';\n",
              "\n",
              "        async function convertToInteractive(key) {\n",
              "          const element = document.querySelector('#df-91baa011-24fd-4074-a6e6-8f9c6580861c');\n",
              "          const dataTable =\n",
              "            await google.colab.kernel.invokeFunction('convertToInteractive',\n",
              "                                                     [key], {});\n",
              "          if (!dataTable) return;\n",
              "\n",
              "          const docLinkHtml = 'Like what you see? Visit the ' +\n",
              "            '<a target=\"_blank\" href=https://colab.research.google.com/notebooks/data_table.ipynb>data table notebook</a>'\n",
              "            + ' to learn more about interactive tables.';\n",
              "          element.innerHTML = '';\n",
              "          dataTable['output_type'] = 'display_data';\n",
              "          await google.colab.output.renderOutput(dataTable, element);\n",
              "          const docLink = document.createElement('div');\n",
              "          docLink.innerHTML = docLinkHtml;\n",
              "          element.appendChild(docLink);\n",
              "        }\n",
              "      </script>\n",
              "    </div>\n",
              "  </div>\n",
              "  "
            ],
            "text/plain": [
              "            Date   Open  ...  Turnover (Lacs)       Data\n",
              "2034  2010-07-21  122.1  ...           803.56 2010-07-21\n",
              "2033  2010-07-22  120.3  ...           355.17 2010-07-22\n",
              "2032  2010-07-23  121.8  ...           340.31 2010-07-23\n",
              "2031  2010-07-26  120.1  ...           780.01 2010-07-26\n",
              "2030  2010-07-27  117.6  ...           694.98 2010-07-27\n",
              "\n",
              "[5 rows x 9 columns]"
            ]
          },
          "metadata": {},
          "execution_count": 53
        }
      ]
    },
    {
      "cell_type": "code",
      "source": [
        "df.reset_index(inplace=True)"
      ],
      "metadata": {
        "id": "iz9yuDdt9aH6"
      },
      "execution_count": null,
      "outputs": []
    },
    {
      "cell_type": "markdown",
      "source": [
        "visualizing the data"
      ],
      "metadata": {
        "id": "-j9rNOS29iBH"
      }
    },
    {
      "cell_type": "code",
      "source": [
        "plt.plot(df['Close'])"
      ],
      "metadata": {
        "colab": {
          "base_uri": "https://localhost:8080/",
          "height": 282
        },
        "id": "XB4I4nGk9SH5",
        "outputId": "0542a97d-a0d4-4dc3-9400-bfe648680075"
      },
      "execution_count": null,
      "outputs": [
        {
          "output_type": "execute_result",
          "data": {
            "text/plain": [
              "[<matplotlib.lines.Line2D at 0x7f8c1ff868d0>]"
            ]
          },
          "metadata": {},
          "execution_count": 55
        },
        {
          "output_type": "display_data",
          "data": {
            "image/png": "[encoded data removed]",
            "text/plain": [
              "<Figure size 432x288 with 1 Axes>"
            ]
          },
          "metadata": {
            "needs_background": "light"
          }
        }
      ]
    },
    {
      "cell_type": "code",
      "source": [
        "plt.boxplot(df['Close'])"
      ],
      "metadata": {
        "colab": {
          "base_uri": "https://localhost:8080/",
          "height": 404
        },
        "id": "n4Nze5k_O_OO",
        "outputId": "fa7898f7-ed91-4734-d80e-97298d117ec5"
      },
      "execution_count": null,
      "outputs": [
        {
          "output_type": "execute_result",
          "data": {
            "text/plain": [
              "{'boxes': [<matplotlib.lines.Line2D at 0x7f8c1e46b3d0>],\n",
              " 'caps': [<matplotlib.lines.Line2D at 0x7f8c1e7d4390>,\n",
              "  <matplotlib.lines.Line2D at 0x7f8c1e7d4f90>],\n",
              " 'fliers': [<matplotlib.lines.Line2D at 0x7f8c1e3cd6d0>],\n",
              " 'means': [],\n",
              " 'medians': [<matplotlib.lines.Line2D at 0x7f8c1e3cd190>],\n",
              " 'whiskers': [<matplotlib.lines.Line2D at 0x7f8c1e7c5550>,\n",
              "  <matplotlib.lines.Line2D at 0x7f8c1e7d4f10>]}"
            ]
          },
          "metadata": {},
          "execution_count": 77
        },
        {
          "output_type": "display_data",
          "data": {
            "image/png": "[encoded data removed]",
            "text/plain": [
              "<Figure size 432x288 with 1 Axes>"
            ]
          },
          "metadata": {
            "needs_background": "light"
          }
        }
      ]
    },
    {
      "cell_type": "code",
      "source": [
        "df_close=df['Close']\n",
        "df_close"
      ],
      "metadata": {
        "colab": {
          "base_uri": "https://localhost:8080/"
        },
        "id": "QxEuW7kDAbfl",
        "outputId": "07a436b2-5688-4ef6-a454-8b52b85d6d5a"
      },
      "execution_count": null,
      "outputs": [
        {
          "output_type": "execute_result",
          "data": {
            "text/plain": [
              "0       121.55\n",
              "1       120.90\n",
              "2       120.65\n",
              "3       117.60\n",
              "4       118.65\n",
              "         ...  \n",
              "2030    233.30\n",
              "2031    236.10\n",
              "2032    234.25\n",
              "2033    233.25\n",
              "2034    233.75\n",
              "Name: Close, Length: 2035, dtype: float64"
            ]
          },
          "metadata": {},
          "execution_count": 56
        }
      ]
    },
    {
      "cell_type": "markdown",
      "source": [
        "using max and min  for scaling the attributes"
      ],
      "metadata": {
        "id": "6VkUSDzBAnho"
      }
    },
    {
      "cell_type": "code",
      "source": [
        "scaler = MinMaxScaler(feature_range=(0,1))"
      ],
      "metadata": {
        "id": "BZDjJCV3An43"
      },
      "execution_count": null,
      "outputs": []
    },
    {
      "cell_type": "code",
      "source": [
        "df_close = scaler.fit_transform(np.array(df_close).reshape(-1,1))\n",
        "df_close"
      ],
      "metadata": {
        "colab": {
          "base_uri": "https://localhost:8080/"
        },
        "id": "p7Ogg09aC2At",
        "outputId": "5e2ba770-a0e3-4f2e-aafe-06fb4705d143"
      },
      "execution_count": null,
      "outputs": [
        {
          "output_type": "execute_result",
          "data": {
            "text/plain": [
              "array([[0.16584967],\n",
              "       [0.16319444],\n",
              "       [0.1621732 ],\n",
              "       ...,\n",
              "       [0.62622549],\n",
              "       [0.62214052],\n",
              "       [0.62418301]])"
            ]
          },
          "metadata": {},
          "execution_count": 58
        }
      ]
    },
    {
      "cell_type": "markdown",
      "source": [
        "spliting the data"
      ],
      "metadata": {
        "id": "PQVdJy37C9Hc"
      }
    },
    {
      "cell_type": "code",
      "source": [
        "training_size = int(len(df_close)*0.70)\n",
        "test_size = len(df_close) - training_size\n",
        "train, test = df_close[0: training_size,:], df_close[training_size : len(df_close),:1]"
      ],
      "metadata": {
        "id": "UO5C7uX7DBQO"
      },
      "execution_count": null,
      "outputs": []
    },
    {
      "cell_type": "code",
      "source": [
        "def create_mat(ds, time_step = 1):\n",
        "    dataX, dataY = [], []\n",
        "    for i in range(len(ds)-time_step-1):\n",
        "        a = ds[i:(i+time_step),0]\n",
        "        dataX.append(a)\n",
        "        dataY.append(ds[i + time_step, 0])\n",
        "    return np.array(dataX), np.array(dataY)"
      ],
      "metadata": {
        "id": "lmRknbFTE4Ph"
      },
      "execution_count": null,
      "outputs": []
    },
    {
      "cell_type": "code",
      "source": [
        "time_step = 100\n",
        "X_train, y_train = create_mat(train, time_step)\n",
        "X_test, y_test = create_mat(test, time_step)"
      ],
      "metadata": {
        "id": "tclhjGOAE5xU"
      },
      "execution_count": null,
      "outputs": []
    },
    {
      "cell_type": "code",
      "source": [
        "X_train.shape"
      ],
      "metadata": {
        "colab": {
          "base_uri": "https://localhost:8080/"
        },
        "id": "mv21FAIKE-Q5",
        "outputId": "89cc210d-4651-472a-8e03-9a786611d833"
      },
      "execution_count": null,
      "outputs": [
        {
          "output_type": "execute_result",
          "data": {
            "text/plain": [
              "(1323, 100)"
            ]
          },
          "metadata": {},
          "execution_count": 62
        }
      ]
    },
    {
      "cell_type": "code",
      "source": [
        "y_train.shape"
      ],
      "metadata": {
        "colab": {
          "base_uri": "https://localhost:8080/"
        },
        "id": "p-AmToRhFJG0",
        "outputId": "86d67704-1969-4068-8c69-97a76e4a666f"
      },
      "execution_count": null,
      "outputs": [
        {
          "output_type": "execute_result",
          "data": {
            "text/plain": [
              "(1323,)"
            ]
          },
          "metadata": {},
          "execution_count": 63
        }
      ]
    },
    {
      "cell_type": "code",
      "source": [
        "X_test.shape"
      ],
      "metadata": {
        "colab": {
          "base_uri": "https://localhost:8080/"
        },
        "id": "lyhRuhRIFNGj",
        "outputId": "be30afd3-f968-42ed-8080-f658ca0f0a92"
      },
      "execution_count": null,
      "outputs": [
        {
          "output_type": "execute_result",
          "data": {
            "text/plain": [
              "(510, 100)"
            ]
          },
          "metadata": {},
          "execution_count": 64
        }
      ]
    },
    {
      "cell_type": "code",
      "source": [
        "y_test.shape"
      ],
      "metadata": {
        "colab": {
          "base_uri": "https://localhost:8080/"
        },
        "id": "qYwnuBLoFWHI",
        "outputId": "a06adbc4-a87a-4e53-d3a8-9bb3333f6eae"
      },
      "execution_count": null,
      "outputs": [
        {
          "output_type": "execute_result",
          "data": {
            "text/plain": [
              "(510,)"
            ]
          },
          "metadata": {},
          "execution_count": 65
        }
      ]
    },
    {
      "cell_type": "code",
      "source": [
        "X_train = X_train.reshape(X_train.shape[0], X_train.shape[1], 1)\n",
        "X_test = X_test.reshape(X_test.shape[0], X_test.shape[1], 1)"
      ],
      "metadata": {
        "id": "LIDTTIFkFhGG"
      },
      "execution_count": null,
      "outputs": []
    },
    {
      "cell_type": "markdown",
      "source": [
        "creating LSTM model"
      ],
      "metadata": {
        "id": "AkZfk66KFxeA"
      }
    },
    {
      "cell_type": "code",
      "source": [
        "model = Sequential()\n",
        "model.add(LSTM(50,return_sequences=True,input_shape=(100,1)))\n",
        "model.add(LSTM(50,return_sequences=True))\n",
        "model.add(LSTM(50))\n",
        "model.add(Dense(1))\n",
        "model.compile(loss='mean_squared_error',optimizer='adam')\n",
        "model.summary()"
      ],
      "metadata": {
        "colab": {
          "base_uri": "https://localhost:8080/"
        },
        "id": "3As94ApbF4Dk",
        "outputId": "65f2f54e-0a5b-4242-f3fc-4defcaea319a"
      },
      "execution_count": null,
      "outputs": [
        {
          "output_type": "stream",
          "name": "stdout",
          "text": [
            "Model: \"sequential_1\"\n",
            "_________________________________________________________________\n",
            " Layer (type)                Output Shape              Param #   \n",
            "=================================================================\n",
            " lstm_3 (LSTM)               (None, 100, 50)           10400     \n",
            "                                                                 \n",
            " lstm_4 (LSTM)               (None, 100, 50)           20200     \n",
            "                                                                 \n",
            " lstm_5 (LSTM)               (None, 50)                20200     \n",
            "                                                                 \n",
            " dense_1 (Dense)             (None, 1)                 51        \n",
            "                                                                 \n",
            "=================================================================\n",
            "Total params: 50,851\n",
            "Trainable params: 50,851\n",
            "Non-trainable params: 0\n",
            "_________________________________________________________________\n"
          ]
        }
      ]
    },
    {
      "cell_type": "code",
      "source": [
        "model.fit(X_train, y_train, validation_split=0.1, epochs= 60, batch_size=64, verbose = 1)"
      ],
      "metadata": {
        "colab": {
          "base_uri": "https://localhost:8080/"
        },
        "id": "9a_GvXbuGB9_",
        "outputId": "5c48492c-862d-4a85-ec9c-a47e69385493"
      },
      "execution_count": null,
      "outputs": [
        {
          "output_type": "stream",
          "name": "stdout",
          "text": [
            "Epoch 1/60\n",
            "19/19 [==============================] - 10s 248ms/step - loss: 0.0120 - val_loss: 0.0012\n",
            "Epoch 2/60\n",
            "19/19 [==============================] - 3s 176ms/step - loss: 0.0018 - val_loss: 0.0012\n",
            "Epoch 3/60\n",
            "19/19 [==============================] - 3s 175ms/step - loss: 8.9632e-04 - val_loss: 0.0011\n",
            "Epoch 4/60\n",
            "19/19 [==============================] - 3s 177ms/step - loss: 8.2281e-04 - val_loss: 0.0012\n",
            "Epoch 5/60\n",
            "19/19 [==============================] - 3s 179ms/step - loss: 8.2851e-04 - val_loss: 0.0010\n",
            "Epoch 6/60\n",
            "19/19 [==============================] - 3s 174ms/step - loss: 7.5899e-04 - val_loss: 9.7309e-04\n",
            "Epoch 7/60\n",
            "19/19 [==============================] - 3s 176ms/step - loss: 7.6338e-04 - val_loss: 9.4928e-04\n",
            "Epoch 8/60\n",
            "19/19 [==============================] - 3s 177ms/step - loss: 7.4501e-04 - val_loss: 8.8430e-04\n",
            "Epoch 9/60\n",
            "19/19 [==============================] - 3s 176ms/step - loss: 6.8948e-04 - val_loss: 8.4798e-04\n",
            "Epoch 10/60\n",
            "19/19 [==============================] - 3s 177ms/step - loss: 6.6456e-04 - val_loss: 7.8134e-04\n",
            "Epoch 11/60\n",
            "19/19 [==============================] - 4s 225ms/step - loss: 6.3600e-04 - val_loss: 7.3620e-04\n",
            "Epoch 12/60\n",
            "19/19 [==============================] - 3s 177ms/step - loss: 6.3646e-04 - val_loss: 7.1171e-04\n",
            "Epoch 13/60\n",
            "19/19 [==============================] - 3s 176ms/step - loss: 5.9250e-04 - val_loss: 7.5437e-04\n",
            "Epoch 14/60\n",
            "19/19 [==============================] - 3s 178ms/step - loss: 5.6620e-04 - val_loss: 6.2575e-04\n",
            "Epoch 15/60\n",
            "19/19 [==============================] - 3s 177ms/step - loss: 5.4223e-04 - val_loss: 5.9213e-04\n",
            "Epoch 16/60\n",
            "19/19 [==============================] - 3s 176ms/step - loss: 5.6626e-04 - val_loss: 6.2900e-04\n",
            "Epoch 17/60\n",
            "19/19 [==============================] - 3s 177ms/step - loss: 5.5982e-04 - val_loss: 5.6150e-04\n",
            "Epoch 18/60\n",
            "19/19 [==============================] - 3s 177ms/step - loss: 5.1139e-04 - val_loss: 5.6463e-04\n",
            "Epoch 19/60\n",
            "19/19 [==============================] - 3s 176ms/step - loss: 5.1904e-04 - val_loss: 5.3639e-04\n",
            "Epoch 20/60\n",
            "19/19 [==============================] - 3s 174ms/step - loss: 4.6829e-04 - val_loss: 4.9634e-04\n",
            "Epoch 21/60\n",
            "19/19 [==============================] - 3s 176ms/step - loss: 4.5420e-04 - val_loss: 4.7352e-04\n",
            "Epoch 22/60\n",
            "19/19 [==============================] - 3s 175ms/step - loss: 4.2636e-04 - val_loss: 4.9479e-04\n",
            "Epoch 23/60\n",
            "19/19 [==============================] - 3s 180ms/step - loss: 4.2099e-04 - val_loss: 4.2652e-04\n",
            "Epoch 24/60\n",
            "19/19 [==============================] - 3s 179ms/step - loss: 4.0958e-04 - val_loss: 5.1371e-04\n",
            "Epoch 25/60\n",
            "19/19 [==============================] - 3s 175ms/step - loss: 4.5469e-04 - val_loss: 3.9108e-04\n",
            "Epoch 26/60\n",
            "19/19 [==============================] - 3s 176ms/step - loss: 3.8854e-04 - val_loss: 3.9173e-04\n",
            "Epoch 27/60\n",
            "19/19 [==============================] - 3s 175ms/step - loss: 3.7133e-04 - val_loss: 3.3851e-04\n",
            "Epoch 28/60\n",
            "19/19 [==============================] - 3s 177ms/step - loss: 3.6375e-04 - val_loss: 4.4101e-04\n",
            "Epoch 29/60\n",
            "19/19 [==============================] - 3s 176ms/step - loss: 3.5738e-04 - val_loss: 3.2586e-04\n",
            "Epoch 30/60\n",
            "19/19 [==============================] - 4s 236ms/step - loss: 3.4571e-04 - val_loss: 3.1098e-04\n",
            "Epoch 31/60\n",
            "19/19 [==============================] - 4s 194ms/step - loss: 3.1610e-04 - val_loss: 3.1519e-04\n",
            "Epoch 32/60\n",
            "19/19 [==============================] - 3s 174ms/step - loss: 3.2933e-04 - val_loss: 2.6595e-04\n",
            "Epoch 33/60\n",
            "19/19 [==============================] - 3s 176ms/step - loss: 3.1457e-04 - val_loss: 2.7275e-04\n",
            "Epoch 34/60\n",
            "19/19 [==============================] - 3s 176ms/step - loss: 2.9172e-04 - val_loss: 2.4775e-04\n",
            "Epoch 35/60\n",
            "19/19 [==============================] - 3s 176ms/step - loss: 2.8467e-04 - val_loss: 2.3221e-04\n",
            "Epoch 36/60\n",
            "19/19 [==============================] - 3s 177ms/step - loss: 3.0842e-04 - val_loss: 2.3617e-04\n",
            "Epoch 37/60\n",
            "19/19 [==============================] - 3s 178ms/step - loss: 3.1723e-04 - val_loss: 3.1185e-04\n",
            "Epoch 38/60\n",
            "19/19 [==============================] - 3s 176ms/step - loss: 3.2915e-04 - val_loss: 2.2117e-04\n",
            "Epoch 39/60\n",
            "19/19 [==============================] - 3s 176ms/step - loss: 2.7097e-04 - val_loss: 2.3677e-04\n",
            "Epoch 40/60\n",
            "19/19 [==============================] - 3s 178ms/step - loss: 2.6737e-04 - val_loss: 2.1417e-04\n",
            "Epoch 41/60\n",
            "19/19 [==============================] - 3s 175ms/step - loss: 2.5425e-04 - val_loss: 2.1014e-04\n",
            "Epoch 42/60\n",
            "19/19 [==============================] - 3s 177ms/step - loss: 2.3897e-04 - val_loss: 2.3661e-04\n",
            "Epoch 43/60\n",
            "19/19 [==============================] - 3s 178ms/step - loss: 2.3744e-04 - val_loss: 1.9974e-04\n",
            "Epoch 44/60\n",
            "19/19 [==============================] - 3s 178ms/step - loss: 2.2617e-04 - val_loss: 2.2113e-04\n",
            "Epoch 45/60\n",
            "19/19 [==============================] - 3s 178ms/step - loss: 2.1578e-04 - val_loss: 1.7952e-04\n",
            "Epoch 46/60\n",
            "19/19 [==============================] - 3s 179ms/step - loss: 2.0666e-04 - val_loss: 1.7244e-04\n",
            "Epoch 47/60\n",
            "19/19 [==============================] - 3s 177ms/step - loss: 2.0328e-04 - val_loss: 1.7072e-04\n",
            "Epoch 48/60\n",
            "19/19 [==============================] - 3s 176ms/step - loss: 2.1344e-04 - val_loss: 1.6938e-04\n",
            "Epoch 49/60\n",
            "19/19 [==============================] - 3s 177ms/step - loss: 1.9773e-04 - val_loss: 1.6122e-04\n",
            "Epoch 50/60\n",
            "19/19 [==============================] - 3s 176ms/step - loss: 1.8689e-04 - val_loss: 1.6428e-04\n",
            "Epoch 51/60\n",
            "19/19 [==============================] - 3s 176ms/step - loss: 1.8830e-04 - val_loss: 1.5845e-04\n",
            "Epoch 52/60\n",
            "19/19 [==============================] - 3s 177ms/step - loss: 1.9875e-04 - val_loss: 1.8300e-04\n",
            "Epoch 53/60\n",
            "19/19 [==============================] - 3s 174ms/step - loss: 2.0441e-04 - val_loss: 1.7538e-04\n",
            "Epoch 54/60\n",
            "19/19 [==============================] - 3s 178ms/step - loss: 1.7705e-04 - val_loss: 1.4370e-04\n",
            "Epoch 55/60\n",
            "19/19 [==============================] - 3s 175ms/step - loss: 1.7039e-04 - val_loss: 1.5352e-04\n",
            "Epoch 56/60\n",
            "19/19 [==============================] - 3s 176ms/step - loss: 1.6746e-04 - val_loss: 1.5785e-04\n",
            "Epoch 57/60\n",
            "19/19 [==============================] - 3s 176ms/step - loss: 1.6242e-04 - val_loss: 1.4171e-04\n",
            "Epoch 58/60\n",
            "19/19 [==============================] - 3s 177ms/step - loss: 1.7773e-04 - val_loss: 1.5299e-04\n",
            "Epoch 59/60\n",
            "19/19 [==============================] - 3s 176ms/step - loss: 1.6580e-04 - val_loss: 2.3182e-04\n",
            "Epoch 60/60\n",
            "19/19 [==============================] - 3s 175ms/step - loss: 2.3075e-04 - val_loss: 2.2996e-04\n"
          ]
        },
        {
          "output_type": "execute_result",
          "data": {
            "text/plain": [
              "<keras.callbacks.History at 0x7f8c1fdb9b10>"
            ]
          },
          "metadata": {},
          "execution_count": 68
        }
      ]
    },
    {
      "cell_type": "markdown",
      "source": [
        "predictions"
      ],
      "metadata": {
        "id": "3eWzgw40GMmb"
      }
    },
    {
      "cell_type": "code",
      "source": [
        "predictions = model.predict(X_test)"
      ],
      "metadata": {
        "id": "9FYaPif1GLrX"
      },
      "execution_count": null,
      "outputs": []
    },
    {
      "cell_type": "code",
      "source": [
        "inv_predictions = scaler.inverse_transform(predictions)"
      ],
      "metadata": {
        "id": "NLu9XXGQGX7T"
      },
      "execution_count": null,
      "outputs": []
    },
    {
      "cell_type": "code",
      "source": [
        ""
      ],
      "metadata": {
        "id": "R6rc1Y27Ngmq"
      },
      "execution_count": null,
      "outputs": []
    },
    {
      "cell_type": "code",
      "source": [
        "inv_predictions"
      ],
      "metadata": {
        "colab": {
          "base_uri": "https://localhost:8080/"
        },
        "id": "SlcbaEPsGc54",
        "outputId": "fa0ef051-2db3-4d49-ac2d-c4e57391ec6d"
      },
      "execution_count": null,
      "outputs": [
        {
          "output_type": "execute_result",
          "data": {
            "text/plain": [
              "array([[144.50421 ],\n",
              "       [144.57922 ],\n",
              "       [143.0445  ],\n",
              "       [139.37613 ],\n",
              "       [138.63959 ],\n",
              "       [139.07    ],\n",
              "       [141.29567 ],\n",
              "       [142.8005  ],\n",
              "       [142.00848 ],\n",
              "       [140.97314 ],\n",
              "       [140.9579  ],\n",
              "       [143.2849  ],\n",
              "       [143.86609 ],\n",
              "       [145.80711 ],\n",
              "       [148.28923 ],\n",
              "       [143.4393  ],\n",
              "       [140.93335 ],\n",
              "       [142.42285 ],\n",
              "       [143.92009 ],\n",
              "       [151.46712 ],\n",
              "       [154.73322 ],\n",
              "       [154.6397  ],\n",
              "       [153.7748  ],\n",
              "       [150.75908 ],\n",
              "       [152.49506 ],\n",
              "       [152.6733  ],\n",
              "       [153.4239  ],\n",
              "       [155.70319 ],\n",
              "       [155.47699 ],\n",
              "       [154.82265 ],\n",
              "       [155.54578 ],\n",
              "       [153.53545 ],\n",
              "       [149.2111  ],\n",
              "       [142.42531 ],\n",
              "       [141.00912 ],\n",
              "       [141.83797 ],\n",
              "       [142.37625 ],\n",
              "       [140.31671 ],\n",
              "       [136.62357 ],\n",
              "       [132.07425 ],\n",
              "       [130.59813 ],\n",
              "       [130.58401 ],\n",
              "       [127.92818 ],\n",
              "       [127.71578 ],\n",
              "       [124.85478 ],\n",
              "       [121.69502 ],\n",
              "       [122.202545],\n",
              "       [122.32243 ],\n",
              "       [122.80142 ],\n",
              "       [120.957146],\n",
              "       [119.87214 ],\n",
              "       [119.743774],\n",
              "       [118.75654 ],\n",
              "       [119.4011  ],\n",
              "       [121.488144],\n",
              "       [123.51407 ],\n",
              "       [125.34719 ],\n",
              "       [125.23383 ],\n",
              "       [124.2215  ],\n",
              "       [124.39941 ],\n",
              "       [124.8405  ],\n",
              "       [124.61384 ],\n",
              "       [125.0277  ],\n",
              "       [125.56165 ],\n",
              "       [125.621376],\n",
              "       [125.504074],\n",
              "       [125.12914 ],\n",
              "       [125.70704 ],\n",
              "       [126.30436 ],\n",
              "       [126.59703 ],\n",
              "       [125.14286 ],\n",
              "       [123.9794  ],\n",
              "       [122.50533 ],\n",
              "       [121.401474],\n",
              "       [120.14094 ],\n",
              "       [121.12142 ],\n",
              "       [122.043465],\n",
              "       [123.128654],\n",
              "       [124.15636 ],\n",
              "       [125.35284 ],\n",
              "       [126.408585],\n",
              "       [126.828156],\n",
              "       [127.125496],\n",
              "       [126.94655 ],\n",
              "       [126.72211 ],\n",
              "       [126.46831 ],\n",
              "       [127.89409 ],\n",
              "       [128.04276 ],\n",
              "       [129.23407 ],\n",
              "       [129.89523 ],\n",
              "       [129.97241 ],\n",
              "       [130.35893 ],\n",
              "       [131.62955 ],\n",
              "       [130.4187  ],\n",
              "       [129.74805 ],\n",
              "       [129.99297 ],\n",
              "       [130.38965 ],\n",
              "       [131.08087 ],\n",
              "       [132.1823  ],\n",
              "       [131.9967  ],\n",
              "       [132.10794 ],\n",
              "       [136.30566 ],\n",
              "       [141.93823 ],\n",
              "       [145.2843  ],\n",
              "       [145.16887 ],\n",
              "       [146.51413 ],\n",
              "       [146.18852 ],\n",
              "       [145.51329 ],\n",
              "       [144.04141 ],\n",
              "       [142.89705 ],\n",
              "       [141.25981 ],\n",
              "       [141.42639 ],\n",
              "       [142.22356 ],\n",
              "       [143.66856 ],\n",
              "       [144.47375 ],\n",
              "       [143.62054 ],\n",
              "       [142.32173 ],\n",
              "       [141.47229 ],\n",
              "       [140.77466 ],\n",
              "       [143.83797 ],\n",
              "       [144.71434 ],\n",
              "       [145.64684 ],\n",
              "       [145.94269 ],\n",
              "       [145.48767 ],\n",
              "       [144.23744 ],\n",
              "       [143.16325 ],\n",
              "       [140.63358 ],\n",
              "       [140.705   ],\n",
              "       [142.4403  ],\n",
              "       [145.90948 ],\n",
              "       [147.82507 ],\n",
              "       [148.98856 ],\n",
              "       [148.775   ],\n",
              "       [146.47841 ],\n",
              "       [150.20763 ],\n",
              "       [153.11565 ],\n",
              "       [152.22992 ],\n",
              "       [152.06259 ],\n",
              "       [152.27371 ],\n",
              "       [152.18037 ],\n",
              "       [152.37552 ],\n",
              "       [153.45956 ],\n",
              "       [154.61134 ],\n",
              "       [155.2997  ],\n",
              "       [153.82057 ],\n",
              "       [152.99043 ],\n",
              "       [154.53746 ],\n",
              "       [154.65657 ],\n",
              "       [153.51207 ],\n",
              "       [152.1598  ],\n",
              "       [150.86108 ],\n",
              "       [151.82204 ],\n",
              "       [154.06836 ],\n",
              "       [154.60274 ],\n",
              "       [154.68294 ],\n",
              "       [154.3694  ],\n",
              "       [155.43652 ],\n",
              "       [155.04195 ],\n",
              "       [155.14314 ],\n",
              "       [158.3355  ],\n",
              "       [159.17235 ],\n",
              "       [158.1741  ],\n",
              "       [155.34222 ],\n",
              "       [154.21031 ],\n",
              "       [155.35178 ],\n",
              "       [156.93198 ],\n",
              "       [157.0327  ],\n",
              "       [155.78882 ],\n",
              "       [156.33908 ],\n",
              "       [156.88113 ],\n",
              "       [155.96577 ],\n",
              "       [151.76791 ],\n",
              "       [150.9484  ],\n",
              "       [150.56247 ],\n",
              "       [148.63367 ],\n",
              "       [145.7027  ],\n",
              "       [145.34644 ],\n",
              "       [148.38643 ],\n",
              "       [149.43063 ],\n",
              "       [149.21529 ],\n",
              "       [151.10536 ],\n",
              "       [154.13469 ],\n",
              "       [156.90079 ],\n",
              "       [157.65598 ],\n",
              "       [155.92831 ],\n",
              "       [156.27356 ],\n",
              "       [156.33961 ],\n",
              "       [156.1939  ],\n",
              "       [154.67941 ],\n",
              "       [156.80057 ],\n",
              "       [159.87555 ],\n",
              "       [161.53412 ],\n",
              "       [161.03236 ],\n",
              "       [159.06549 ],\n",
              "       [158.40842 ],\n",
              "       [158.57845 ],\n",
              "       [157.54652 ],\n",
              "       [154.61172 ],\n",
              "       [150.82652 ],\n",
              "       [150.75317 ],\n",
              "       [151.39943 ],\n",
              "       [153.25456 ],\n",
              "       [154.79648 ],\n",
              "       [154.09174 ],\n",
              "       [157.11467 ],\n",
              "       [157.12468 ],\n",
              "       [159.04535 ],\n",
              "       [165.91612 ],\n",
              "       [171.15797 ],\n",
              "       [174.88553 ],\n",
              "       [176.38553 ],\n",
              "       [175.12276 ],\n",
              "       [176.06178 ],\n",
              "       [174.55156 ],\n",
              "       [174.87645 ],\n",
              "       [172.86317 ],\n",
              "       [172.86145 ],\n",
              "       [171.99942 ],\n",
              "       [172.69931 ],\n",
              "       [174.14137 ],\n",
              "       [171.90334 ],\n",
              "       [171.18565 ],\n",
              "       [171.68382 ],\n",
              "       [170.579   ],\n",
              "       [168.24147 ],\n",
              "       [168.59038 ],\n",
              "       [169.15234 ],\n",
              "       [172.21309 ],\n",
              "       [170.19383 ],\n",
              "       [165.63724 ],\n",
              "       [159.5915  ],\n",
              "       [163.66544 ],\n",
              "       [177.48204 ],\n",
              "       [193.8383  ],\n",
              "       [195.20259 ],\n",
              "       [194.02434 ],\n",
              "       [193.86172 ],\n",
              "       [188.98238 ],\n",
              "       [192.64238 ],\n",
              "       [193.57866 ],\n",
              "       [192.93562 ],\n",
              "       [190.64983 ],\n",
              "       [195.59483 ],\n",
              "       [198.56798 ],\n",
              "       [198.35242 ],\n",
              "       [194.32637 ],\n",
              "       [195.94624 ],\n",
              "       [204.49408 ],\n",
              "       [206.51004 ],\n",
              "       [206.30223 ],\n",
              "       [207.5373  ],\n",
              "       [210.00359 ],\n",
              "       [206.62268 ],\n",
              "       [209.42795 ],\n",
              "       [209.60318 ],\n",
              "       [211.62923 ],\n",
              "       [214.48509 ],\n",
              "       [212.78667 ],\n",
              "       [210.8435  ],\n",
              "       [201.74834 ],\n",
              "       [196.97313 ],\n",
              "       [204.49936 ],\n",
              "       [202.32524 ],\n",
              "       [204.38618 ],\n",
              "       [207.05966 ],\n",
              "       [207.49461 ],\n",
              "       [205.57733 ],\n",
              "       [208.47276 ],\n",
              "       [209.39421 ],\n",
              "       [207.99109 ],\n",
              "       [207.62396 ],\n",
              "       [208.58264 ],\n",
              "       [211.03905 ],\n",
              "       [210.02916 ],\n",
              "       [208.92017 ],\n",
              "       [209.46791 ],\n",
              "       [206.99686 ],\n",
              "       [204.76091 ],\n",
              "       [203.6388  ],\n",
              "       [209.25737 ],\n",
              "       [207.12752 ],\n",
              "       [209.34196 ],\n",
              "       [218.46996 ],\n",
              "       [224.68153 ],\n",
              "       [224.13087 ],\n",
              "       [223.33705 ],\n",
              "       [222.00795 ],\n",
              "       [221.35605 ],\n",
              "       [229.426   ],\n",
              "       [223.20515 ],\n",
              "       [221.17809 ],\n",
              "       [234.78403 ],\n",
              "       [233.65385 ],\n",
              "       [230.25024 ],\n",
              "       [239.74382 ],\n",
              "       [244.50775 ],\n",
              "       [244.59901 ],\n",
              "       [250.16747 ],\n",
              "       [261.84357 ],\n",
              "       [260.77167 ],\n",
              "       [260.43546 ],\n",
              "       [261.64484 ],\n",
              "       [265.49704 ],\n",
              "       [265.2812  ],\n",
              "       [273.2986  ],\n",
              "       [268.06708 ],\n",
              "       [273.31384 ],\n",
              "       [271.43387 ],\n",
              "       [268.17203 ],\n",
              "       [269.72076 ],\n",
              "       [266.44946 ],\n",
              "       [273.7497  ],\n",
              "       [277.01376 ],\n",
              "       [283.29755 ],\n",
              "       [274.50192 ],\n",
              "       [272.24344 ],\n",
              "       [273.52783 ],\n",
              "       [276.0524  ],\n",
              "       [278.9239  ],\n",
              "       [285.60873 ],\n",
              "       [284.921   ],\n",
              "       [283.94302 ],\n",
              "       [286.24292 ],\n",
              "       [288.87546 ],\n",
              "       [288.619   ],\n",
              "       [289.61813 ],\n",
              "       [296.80756 ],\n",
              "       [294.0015  ],\n",
              "       [292.98715 ],\n",
              "       [293.83057 ],\n",
              "       [295.0683  ],\n",
              "       [295.72754 ],\n",
              "       [299.05432 ],\n",
              "       [297.18732 ],\n",
              "       [296.55734 ],\n",
              "       [296.4401  ],\n",
              "       [305.2505  ],\n",
              "       [302.4688  ],\n",
              "       [297.7917  ],\n",
              "       [296.90387 ],\n",
              "       [291.81467 ],\n",
              "       [294.91168 ],\n",
              "       [295.11328 ],\n",
              "       [293.33298 ],\n",
              "       [290.9826  ],\n",
              "       [291.1254  ],\n",
              "       [289.18658 ],\n",
              "       [290.75742 ],\n",
              "       [280.16638 ],\n",
              "       [279.48587 ],\n",
              "       [269.39087 ],\n",
              "       [269.0477  ],\n",
              "       [264.19827 ],\n",
              "       [274.7407  ],\n",
              "       [273.5517  ],\n",
              "       [269.79254 ],\n",
              "       [274.64563 ],\n",
              "       [271.7302  ],\n",
              "       [268.99313 ],\n",
              "       [266.67093 ],\n",
              "       [261.05246 ],\n",
              "       [257.67038 ],\n",
              "       [261.57394 ],\n",
              "       [257.924   ],\n",
              "       [264.18616 ],\n",
              "       [265.96475 ],\n",
              "       [265.92712 ],\n",
              "       [265.7081  ],\n",
              "       [265.06836 ],\n",
              "       [265.82568 ],\n",
              "       [264.84286 ],\n",
              "       [260.82712 ],\n",
              "       [264.90005 ],\n",
              "       [261.25504 ],\n",
              "       [267.13623 ],\n",
              "       [268.81277 ],\n",
              "       [268.2671  ],\n",
              "       [268.85147 ],\n",
              "       [263.2612  ],\n",
              "       [254.1631  ],\n",
              "       [256.88647 ],\n",
              "       [258.92313 ],\n",
              "       [254.9125  ],\n",
              "       [253.6715  ],\n",
              "       [257.23697 ],\n",
              "       [258.18896 ],\n",
              "       [253.22217 ],\n",
              "       [267.16415 ],\n",
              "       [265.5725  ],\n",
              "       [260.35666 ],\n",
              "       [262.7653  ],\n",
              "       [263.27548 ],\n",
              "       [267.3101  ],\n",
              "       [265.52267 ],\n",
              "       [264.08087 ],\n",
              "       [264.54346 ],\n",
              "       [266.23566 ],\n",
              "       [269.50568 ],\n",
              "       [270.24878 ],\n",
              "       [272.31516 ],\n",
              "       [273.78638 ],\n",
              "       [273.7469  ],\n",
              "       [271.78946 ],\n",
              "       [271.91257 ],\n",
              "       [276.92694 ],\n",
              "       [278.39822 ],\n",
              "       [278.6284  ],\n",
              "       [282.60303 ],\n",
              "       [278.92554 ],\n",
              "       [274.5754  ],\n",
              "       [276.57788 ],\n",
              "       [281.9413  ],\n",
              "       [278.04938 ],\n",
              "       [279.6326  ],\n",
              "       [274.6324  ],\n",
              "       [276.8173  ],\n",
              "       [250.91812 ],\n",
              "       [242.39468 ],\n",
              "       [244.83937 ],\n",
              "       [250.95537 ],\n",
              "       [246.93236 ],\n",
              "       [243.75148 ],\n",
              "       [245.89212 ],\n",
              "       [247.75883 ],\n",
              "       [250.18217 ],\n",
              "       [251.9225  ],\n",
              "       [253.32536 ],\n",
              "       [250.25604 ],\n",
              "       [255.6204  ],\n",
              "       [259.77643 ],\n",
              "       [254.65753 ],\n",
              "       [247.95555 ],\n",
              "       [255.8594  ],\n",
              "       [258.63382 ],\n",
              "       [259.03336 ],\n",
              "       [258.5309  ],\n",
              "       [255.9387  ],\n",
              "       [259.33783 ],\n",
              "       [261.33292 ],\n",
              "       [267.3732  ],\n",
              "       [262.62747 ],\n",
              "       [264.748   ],\n",
              "       [258.77887 ],\n",
              "       [254.21315 ],\n",
              "       [253.27081 ],\n",
              "       [257.25967 ],\n",
              "       [259.14624 ],\n",
              "       [260.5968  ],\n",
              "       [258.50018 ],\n",
              "       [256.7886  ],\n",
              "       [261.26477 ],\n",
              "       [257.4099  ],\n",
              "       [269.8373  ],\n",
              "       [267.05908 ],\n",
              "       [261.11234 ],\n",
              "       [257.80515 ],\n",
              "       [266.03735 ],\n",
              "       [266.07047 ],\n",
              "       [261.3949  ],\n",
              "       [257.88647 ],\n",
              "       [253.56944 ],\n",
              "       [241.122   ],\n",
              "       [246.34334 ],\n",
              "       [239.77238 ],\n",
              "       [234.19327 ],\n",
              "       [239.12001 ],\n",
              "       [243.19684 ],\n",
              "       [244.36366 ],\n",
              "       [234.98404 ],\n",
              "       [235.85342 ],\n",
              "       [239.43062 ],\n",
              "       [239.3555  ],\n",
              "       [242.49942 ],\n",
              "       [232.9747  ],\n",
              "       [231.98743 ],\n",
              "       [232.61879 ],\n",
              "       [237.0136  ],\n",
              "       [235.58398 ],\n",
              "       [233.66325 ],\n",
              "       [234.29843 ],\n",
              "       [231.39957 ],\n",
              "       [231.98148 ],\n",
              "       [234.87119 ],\n",
              "       [236.42924 ],\n",
              "       [238.96223 ],\n",
              "       [240.44539 ],\n",
              "       [236.29137 ],\n",
              "       [231.64442 ],\n",
              "       [228.44583 ],\n",
              "       [234.26736 ],\n",
              "       [232.28041 ],\n",
              "       [232.36462 ],\n",
              "       [233.61305 ],\n",
              "       [232.12514 ],\n",
              "       [233.70248 ],\n",
              "       [222.94868 ],\n",
              "       [220.98454 ],\n",
              "       [221.34468 ],\n",
              "       [223.47035 ],\n",
              "       [222.74771 ],\n",
              "       [216.97566 ],\n",
              "       [221.70506 ],\n",
              "       [232.0321  ],\n",
              "       [234.43365 ],\n",
              "       [231.39632 ],\n",
              "       [230.13338 ],\n",
              "       [230.13615 ],\n",
              "       [229.53455 ],\n",
              "       [232.10858 ],\n",
              "       [231.17963 ]], dtype=float32)"
            ]
          },
          "metadata": {},
          "execution_count": 71
        }
      ]
    },
    {
      "cell_type": "code",
      "source": [
        "from google.colab import drive\n",
        "drive.mount('/content/drive')"
      ],
      "metadata": {
        "id": "khbsmwyCsvFR"
      },
      "execution_count": null,
      "outputs": []
    },
    {
      "cell_type": "markdown",
      "source": [
        " mean squared error for our model"
      ],
      "metadata": {
        "id": "HerDwdfQGrxM"
      }
    },
    {
      "cell_type": "code",
      "source": [
        "mse_error = math.sqrt(mean_squared_error(y_test, predictions))\n",
        "print(\"The Mean Squared Error for above model is: \", mse_error)"
      ],
      "metadata": {
        "colab": {
          "base_uri": "https://localhost:8080/"
        },
        "id": "U-Wp5iU2Gkf8",
        "outputId": "40817535-3271-4cb2-bc22-40f78daf1c5d"
      },
      "execution_count": null,
      "outputs": [
        {
          "output_type": "stream",
          "name": "stdout",
          "text": [
            "The Mean Squared Error for above model is:  0.03211293060634582\n"
          ]
        }
      ]
    }
  ]
}